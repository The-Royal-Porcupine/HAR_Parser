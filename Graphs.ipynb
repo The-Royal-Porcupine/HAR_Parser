{
 "cells": [
  {
   "cell_type": "code",
   "execution_count": 27,
   "metadata": {},
   "outputs": [],
   "source": [
    "import pandas                as pd\n",
    "import plotly                as py\n",
    "import plotly.graph_objs     as go\n",
    "import xlrd\n",
    "import plotly.express        as px\n",
    "import plotly.figure_factory as ff\n",
    "from   datetime              import datetime, date\n",
    "from   datetime              import timedelta\n",
    "from   pptx                  import Presentation, util\n",
    "from   pd2ppt                import df_to_table\n",
    "from   pptx.util             import Inches"
   ]
  },
  {
   "cell_type": "code",
   "execution_count": 28,
   "metadata": {
    "code_folding": []
   },
   "outputs": [],
   "source": [
    "# Initial Addresses Information \n",
    "excel_address = '/Users/annademidova/PycharmProjects/HAR_Parser/Code/story_tables_generated.xlsx'\n",
    "prs_path = '/Users/annademidova/PycharmProjects/HAR_Parser/SAP_Template_Presentation.pptx'\n",
    "prs = Presentation(prs_path)\n",
    "images_path = '/Users/annademidova/PycharmProjects/HAR_Parser/images/'"
   ]
  },
  {
   "cell_type": "code",
   "execution_count": 29,
   "metadata": {
    "code_folding": []
   },
   "outputs": [],
   "source": [
    "# Header Slide\n",
    "slide = prs.slides[0]\n",
    "slide.placeholders[0].text = 'Analysis of HAR Trace'\n",
    "slide.placeholders[1].text = 'Anna Demidova'\n",
    "prs.save(prs_path)"
   ]
  },
  {
   "cell_type": "code",
   "execution_count": 30,
   "metadata": {},
   "outputs": [],
   "source": [
    "# Creating dataframes for total/average/maximum times\n",
    "# Data Preparation\n",
    "data = pd.read_excel(excel_address, sheet_name = 'story_metadata', index_col=[0]) \n",
    "\n",
    "# Creating Dataframes\n",
    "df = pd.DataFrame(data)\n",
    "wait_index = df.index.isin(['wait'])\n",
    "values_total_runtime_full = df['total_runtime'].map('{:,.2f}'.format)\n",
    "values_total_runtime = values_total_runtime_full[~wait_index]\n",
    "values_average_runtime_full = df['average_runtime'].map('{:,.2f}'.format)\n",
    "values_average_runtime = values_average_runtime_full[~wait_index]\n",
    "values_minimum_runtime = df['minimum_runtime'].map('{:,.2f}'.format)\n",
    "values_maximum_runtime = df['maximum_runtime'].map('{:,.2f}'.format)\n",
    "labels = df.index\n",
    "\n",
    "# Pie Charts creation\n",
    "fig = px.pie(df, values=values_total_runtime, names=df[~wait_index].index, title='Total Runtime without Wait Time')\n",
    "fig.write_image(images_path + 'TotalTime.png')\n",
    "\n",
    "fig = px.pie(df, values=values_average_runtime, names=df[~wait_index].index, title='Average Runtime')\n",
    "fig.write_image(images_path + 'AverageTime.png')\n",
    "\n",
    "#fig = px.pie(df, values=values_minimum_runtime, names=df.index, title='Minimum Runtime')\n",
    "#fig.write_image(images_path + 'MinimumTime.png')\n",
    "\n",
    "fig = px.pie(df, values=values_maximum_runtime, names=df.index, title='Maximum Runtime')\n",
    "fig.write_image(images_path + 'MaximumTime.png')"
   ]
  },
  {
   "cell_type": "code",
   "execution_count": 31,
   "metadata": {},
   "outputs": [],
   "source": [
    "# Gantt chart \n",
    "# Data Praparation \n",
    "data_gantt = pd.read_excel(excel_address, sheet_name = 'story_runtime') \n",
    "\n",
    "# Creating DataFrames\n",
    "df_gantt = pd.DataFrame(data_gantt)\n",
    "df = []\n",
    "for index, row in df_gantt.iterrows():\n",
    "    df_dict = {}\n",
    "    df_dict['Task'] = row['URL']\n",
    "    df_dict['Start'] = datetime.strptime(row['Start Timestamp'], '%m.%d.%Y %H:%M:%S')\n",
    "    df_dict['Finish'] = datetime.strptime(row['Start Timestamp'], '%m.%d.%Y %H:%M:%S') + timedelta(seconds=row['Total Time']/1000)\n",
    "    df.append(df_dict)\n",
    "\n",
    "fig = ff.create_gantt(df)\n",
    "fig.write_image(images_path + 'GanttChart.png')"
   ]
  },
  {
   "cell_type": "code",
   "execution_count": 32,
   "metadata": {},
   "outputs": [],
   "source": [
    "# Inserting Total/Average/Maximum Times Slides\n",
    "slide = prs.slides[4]\n",
    "slide.placeholders[0].text = 'Time Graphs'\n",
    "slide.placeholders[17].text = 'Total and average time graphs are made with wait time excluded'\n",
    "slide.placeholders[11].insert_picture(images_path + 'TotalTime.png')\n",
    "slide.placeholders[15].text = 'Total Time without Wait Time'\n",
    "slide.placeholders[12].insert_picture(images_path + 'AverageTime.png')\n",
    "slide.placeholders[16].text = 'Average Times without Wait Time'\n",
    "slide.placeholders[13].insert_picture(images_path + 'MaximumTime.png')\n",
    "slide.placeholders[14].text = 'The biggest times'\n",
    "\n",
    "prs.save(prs_path)"
   ]
  },
  {
   "cell_type": "code",
   "execution_count": 33,
   "metadata": {},
   "outputs": [],
   "source": [
    "# Inserting Gantt Chart \n",
    "slide = prs.slides[5]\n",
    "slide.placeholders[0].text = 'Gantt Chart over Total Trace Time'\n",
    "picture = slide.placeholders[11].insert_picture(images_path + 'GanttChart.png')\n",
    "\n",
    "# Memorize initial positions of a picture placeholder\n",
    "pos_left, pos_top = picture.left, picture.top\n",
    "\n",
    "available_width = picture.width\n",
    "available_height = picture.height\n",
    "image_width, image_height = picture.image.size\n",
    "placeholder_aspect_ratio = float(available_width) / float(available_height)\n",
    "image_aspect_ratio = float(image_width) / float(image_height)\n",
    "\n",
    "picture.crop_top = 0\n",
    "picture.crop_left = 0\n",
    "picture.crop_bottom = 0\n",
    "picture.crop_right = 0\n",
    "\n",
    "# if the placeholder is \"wider\" in aspect, shrink the picture width while\n",
    "# maintaining the image aspect ratio\n",
    "if placeholder_aspect_ratio > image_aspect_ratio:\n",
    "    picture.width = int(image_aspect_ratio * available_height)\n",
    "    picture.height = available_height\n",
    "    picture.left, picture.top = pos_left, pos_top\n",
    "    \n",
    "# otherwise shrink the height\n",
    "else:\n",
    "    picture.height = int(available_width/image_aspect_ratio)\n",
    "    picture.width = available_width\n",
    "    picture.left, picture.top = pos_left, pos_top\n",
    "\n",
    "prs.save(prs_path)"
   ]
  },
  {
   "cell_type": "code",
   "execution_count": 34,
   "metadata": {},
   "outputs": [],
   "source": [
    "# Total Data Information\n",
    "# Data Preparation\n",
    "data = pd.read_excel(excel_address, sheet_name = 'general_info', index_col=[0], skiprows=1) \n",
    "df = pd.DataFrame(data)\n",
    "\n",
    "# Adding slide to a Presentation\n",
    "slide = prs.slides[6]\n",
    "slide.placeholders[0].text = 'Total Story Info'\n",
    "top = Inches(1.5)\n",
    "left = Inches(1.0)\n",
    "width = Inches(9.25)\n",
    "height = Inches(5.0)\n",
    "df_to_table(slide, df.reset_index(), left, top, width, height)\n",
    "prs.save(prs_path)"
   ]
  },
  {
   "cell_type": "code",
   "execution_count": 35,
   "metadata": {
    "code_folding": []
   },
   "outputs": [],
   "source": [
    "# Get the list of sheets' names\n",
    "all_sheets = pd.read_excel(excel_address, None)\n",
    "# display(all_sheets['Get Response Timings 1'][['Description', 'Time']].dropna())\n",
    "name_template = 'Get Response Timings '\n",
    "for key, value in all_sheets.items():\n",
    "     if name_template in str(key):\n",
    "            # Get \"Timings\" Sheet\n",
    "            df = all_sheets[key][['Description', 'Time']].dropna()\n",
    "            # Create dataframe for a pie chart + pie chart\n",
    "            values = df['Time'].map('{:,.2f}'.format)\n",
    "            labels = df['Description']\n",
    "            fig = px.pie(df, values = values, names = labels, title = key + ' (Data Fetching Times)')\n",
    "            fetch_picture_name = key + ' (Data Fetching Times)'\n",
    "            fig.write_image(images_path + fetch_picture_name + '.png')\n",
    "            \n",
    "            # Find corresponding \"Meta\" Sheet\n",
    "            key_meta = str(key).replace('Timings', 'Meta')\n",
    "            df_meta = all_sheets[key_meta]\n",
    "            \n",
    "            # If there is Widget Info inside - create additional table or create empty DataFrame\n",
    "            if  'Widget ID' in df_meta.columns:\n",
    "                df_widget_info = df_meta[['Story Name', 'Page Title', 'Widget ID',\n",
    "                'Widget Class', 'Widget Title', 'Widget Name', 'Widget TTFB']].T\n",
    "                df_widget_info = df_widget_info.reset_index()\n",
    "                df_widget_info.columns = ['Info','Values']\n",
    "            else:\n",
    "                df_widget_info = pd.DataFrame()\n",
    "                \n",
    "                \n",
    "            # Pie chart for network times creation\n",
    "            df_net_times = df_meta[['blocked', 'dns', 'ssl', 'connect', 'send',\n",
    "            'wait', 'receive', '_blocked_queueing']].T\n",
    "            values = df_net_times[0].map('{:,.2f}'.format)\n",
    "            labels = df_net_times.index\n",
    "            fig = px.pie(df_net_times, values = values, names = labels, title = str(key).replace('Meta', 'Timings') + ' (Network Times)')\n",
    "            network_picture_name = key_meta + ' (Network Times)'\n",
    "            fig.write_image(images_path + network_picture_name + '.png')\n",
    "            \n",
    "            # Table for Link Information\n",
    "            df_link_info = df_meta[['Start Timestamp', 'Total Time', 'Runtime', 'Body Size',\n",
    "            'Status', 'Transfer Size']].T\n",
    "            df_link_info = df_link_info.reset_index()\n",
    "            df_link_info.columns = ['Info','Values']\n",
    "            \n",
    "            # Insert slide with times pictures\n",
    "            pictures_slide = prs.slides.add_slide(prs.slide_layouts[7])\n",
    "            pictures_slide.placeholders[0].text = key\n",
    "            pictures_slide.placeholders[13].insert_picture(images_path + fetch_picture_name + '.png')\n",
    "            pictures_slide.placeholders[15].insert_picture(images_path + network_picture_name + '.png')\n",
    "            prs.save(prs_path)\n",
    "            \n",
    "            # Insert slide with tables\n",
    "            tables_slide = prs.slides.add_slide(prs.slide_layouts[17])\n",
    "            tables_slide.placeholders[0].text = key_meta\n",
    "            # Insert link info tables\n",
    "            if len(df_link_info.index) <= 5:\n",
    "                top = Inches(1.5)\n",
    "                left = Inches(1.0)\n",
    "                width = Inches(4.25)\n",
    "                height = Inches(2.0)\n",
    "                df_to_table(tables_slide, df_link_info, left, top, width, height)\n",
    "                prs.save(prs_path)\n",
    "            elif len(df_link_info.index) > 5:\n",
    "                top = Inches(1.5)\n",
    "                left = Inches(1.0)\n",
    "                width = Inches(5.0)\n",
    "                height = Inches(4.0)\n",
    "                df_to_table(tables_slide, df_link_info, left, top, width, height)\n",
    "                prs.save(prs_path)\n",
    "            #Insert widget table if exists\n",
    "            if not df_widget_info.empty:\n",
    "                top = Inches(1.5)\n",
    "                left = Inches(7.0)\n",
    "                width = Inches(5.0)\n",
    "                height = Inches(4.0)\n",
    "                df_to_table(tables_slide, df_widget_info, left, top, width, height)\n",
    "                prs.save(prs_path)\n",
    "                "
   ]
  },
  {
   "cell_type": "code",
   "execution_count": 179,
   "metadata": {
    "scrolled": true
   },
   "outputs": [
    {
     "name": "stdout",
     "output_type": "stream",
     "text": [
      "<pptx.slide.SlideLayout object at 0x1114f7b80>\n",
      "0 Заголовок 3 TITLE (1)\n",
      "13 Рисунок 1 PICTURE (18)\n",
      "15 Рисунок 2 PICTURE (18)\n"
     ]
    }
   ],
   "source": [
    "slide = prs.slides[7]\n",
    "print(prs.slide_layouts[17])\n",
    "for shape in slide.placeholders:\n",
    "    print('%d %s %s' % (shape.placeholder_format.idx, shape.name, shape.placeholder_format.type))"
   ]
  }
 ],
 "metadata": {
  "kernelspec": {
   "display_name": "Python 3",
   "language": "python",
   "name": "python3"
  },
  "language_info": {
   "codemirror_mode": {
    "name": "ipython",
    "version": 3
   },
   "file_extension": ".py",
   "mimetype": "text/x-python",
   "name": "python",
   "nbconvert_exporter": "python",
   "pygments_lexer": "ipython3",
   "version": "3.8.2"
  }
 },
 "nbformat": 4,
 "nbformat_minor": 4
}
